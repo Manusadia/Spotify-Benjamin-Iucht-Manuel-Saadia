{
 "cells": [
  {
   "cell_type": "code",
   "execution_count": 2,
   "metadata": {},
   "outputs": [
    {
     "name": "stdout",
     "output_type": "stream",
     "text": [
      "Collecting pandas\n",
      "  Downloading pandas-2.3.0-cp311-cp311-win_amd64.whl.metadata (19 kB)\n",
      "Collecting numpy>=1.23.2 (from pandas)\n",
      "  Downloading numpy-2.3.0-cp311-cp311-win_amd64.whl.metadata (60 kB)\n",
      "     ---------------------------------------- 0.0/60.9 kB ? eta -:--:--\n",
      "     ------ --------------------------------- 10.2/60.9 kB ? eta -:--:--\n",
      "     -------------------------------------- 60.9/60.9 kB 803.9 kB/s eta 0:00:00\n",
      "Requirement already satisfied: python-dateutil>=2.8.2 in c:\\users\\user\\appdata\\local\\packages\\pythonsoftwarefoundation.python.3.11_qbz5n2kfra8p0\\localcache\\local-packages\\python311\\site-packages (from pandas) (2.9.0.post0)\n",
      "Collecting pytz>=2020.1 (from pandas)\n",
      "  Downloading pytz-2025.2-py2.py3-none-any.whl.metadata (22 kB)\n",
      "Collecting tzdata>=2022.7 (from pandas)\n",
      "  Downloading tzdata-2025.2-py2.py3-none-any.whl.metadata (1.4 kB)\n",
      "Requirement already satisfied: six>=1.5 in c:\\users\\user\\appdata\\local\\packages\\pythonsoftwarefoundation.python.3.11_qbz5n2kfra8p0\\localcache\\local-packages\\python311\\site-packages (from python-dateutil>=2.8.2->pandas) (1.17.0)\n",
      "Downloading pandas-2.3.0-cp311-cp311-win_amd64.whl (11.1 MB)\n",
      "   ---------------------------------------- 0.0/11.1 MB ? eta -:--:--\n",
      "   - -------------------------------------- 0.4/11.1 MB 13.1 MB/s eta 0:00:01\n",
      "   ------ --------------------------------- 1.7/11.1 MB 22.1 MB/s eta 0:00:01\n",
      "   ------------ --------------------------- 3.5/11.1 MB 28.2 MB/s eta 0:00:01\n",
      "   ------------------- -------------------- 5.3/11.1 MB 30.8 MB/s eta 0:00:01\n",
      "   ------------------------- -------------- 7.1/11.1 MB 32.5 MB/s eta 0:00:01\n",
      "   -------------------------------- ------- 9.0/11.1 MB 33.8 MB/s eta 0:00:01\n",
      "   -------------------------------------- - 10.7/11.1 MB 38.5 MB/s eta 0:00:01\n",
      "   ---------------------------------------  11.1/11.1 MB 40.9 MB/s eta 0:00:01\n",
      "   ---------------------------------------- 11.1/11.1 MB 34.4 MB/s eta 0:00:00\n",
      "Downloading numpy-2.3.0-cp311-cp311-win_amd64.whl (13.0 MB)\n",
      "   ---------------------------------------- 0.0/13.0 MB ? eta -:--:--\n",
      "   ---- ----------------------------------- 1.5/13.0 MB 48.6 MB/s eta 0:00:01\n",
      "   ---------- ----------------------------- 3.3/13.0 MB 42.8 MB/s eta 0:00:01\n",
      "   --------------- ------------------------ 5.1/13.0 MB 40.9 MB/s eta 0:00:01\n",
      "   --------------------- ------------------ 6.9/13.0 MB 40.2 MB/s eta 0:00:01\n",
      "   -------------------------- ------------- 8.7/13.0 MB 43.0 MB/s eta 0:00:01\n",
      "   -------------------------------- ------- 10.6/13.0 MB 40.9 MB/s eta 0:00:01\n",
      "   -------------------------------------- - 12.4/13.0 MB 40.9 MB/s eta 0:00:01\n",
      "   ---------------------------------------  13.0/13.0 MB 40.9 MB/s eta 0:00:01\n",
      "   ---------------------------------------- 13.0/13.0 MB 31.1 MB/s eta 0:00:00\n",
      "Downloading pytz-2025.2-py2.py3-none-any.whl (509 kB)\n",
      "   ---------------------------------------- 0.0/509.2 kB ? eta -:--:--\n",
      "   --------------------------------------- 509.2/509.2 kB 31.2 MB/s eta 0:00:00\n",
      "Downloading tzdata-2025.2-py2.py3-none-any.whl (347 kB)\n",
      "   ---------------------------------------- 0.0/347.8 kB ? eta -:--:--\n",
      "   ---------------------------------------- 347.8/347.8 kB ? eta 0:00:00\n",
      "Installing collected packages: pytz, tzdata, numpy, pandas\n",
      "Successfully installed numpy-2.3.0 pandas-2.3.0 pytz-2025.2 tzdata-2025.2\n"
     ]
    },
    {
     "name": "stderr",
     "output_type": "stream",
     "text": [
      "\n",
      "[notice] A new release of pip is available: 24.0 -> 25.1.1\n",
      "[notice] To update, run: C:\\Users\\user\\AppData\\Local\\Microsoft\\WindowsApps\\PythonSoftwareFoundation.Python.3.11_qbz5n2kfra8p0\\python.exe -m pip install --upgrade pip\n"
     ]
    }
   ],
   "source": [
    "!pip install pandas"
   ]
  },
  {
   "cell_type": "code",
   "execution_count": 3,
   "metadata": {},
   "outputs": [
    {
     "name": "stdout",
     "output_type": "stream",
     "text": [
      "Collecting matplotlib\n",
      "  Downloading matplotlib-3.10.3-cp311-cp311-win_amd64.whl.metadata (11 kB)\n",
      "Collecting contourpy>=1.0.1 (from matplotlib)\n",
      "  Downloading contourpy-1.3.2-cp311-cp311-win_amd64.whl.metadata (5.5 kB)\n",
      "Collecting cycler>=0.10 (from matplotlib)\n",
      "  Downloading cycler-0.12.1-py3-none-any.whl.metadata (3.8 kB)\n",
      "Collecting fonttools>=4.22.0 (from matplotlib)\n",
      "  Downloading fonttools-4.58.2-cp311-cp311-win_amd64.whl.metadata (108 kB)\n",
      "     ---------------------------------------- 0.0/108.5 kB ? eta -:--:--\n",
      "     ---------- -------------------------- 30.7/108.5 kB 660.6 kB/s eta 0:00:01\n",
      "     ----------------------------------- -- 102.4/108.5 kB 1.2 MB/s eta 0:00:01\n",
      "     -------------------------------------- 108.5/108.5 kB 1.3 MB/s eta 0:00:00\n",
      "Collecting kiwisolver>=1.3.1 (from matplotlib)\n",
      "  Downloading kiwisolver-1.4.8-cp311-cp311-win_amd64.whl.metadata (6.3 kB)\n",
      "Requirement already satisfied: numpy>=1.23 in c:\\users\\user\\appdata\\local\\packages\\pythonsoftwarefoundation.python.3.11_qbz5n2kfra8p0\\localcache\\local-packages\\python311\\site-packages (from matplotlib) (2.3.0)\n",
      "Requirement already satisfied: packaging>=20.0 in c:\\users\\user\\appdata\\local\\packages\\pythonsoftwarefoundation.python.3.11_qbz5n2kfra8p0\\localcache\\local-packages\\python311\\site-packages (from matplotlib) (25.0)\n",
      "Collecting pillow>=8 (from matplotlib)\n",
      "  Downloading pillow-11.2.1-cp311-cp311-win_amd64.whl.metadata (9.1 kB)\n",
      "Collecting pyparsing>=2.3.1 (from matplotlib)\n",
      "  Downloading pyparsing-3.2.3-py3-none-any.whl.metadata (5.0 kB)\n",
      "Requirement already satisfied: python-dateutil>=2.7 in c:\\users\\user\\appdata\\local\\packages\\pythonsoftwarefoundation.python.3.11_qbz5n2kfra8p0\\localcache\\local-packages\\python311\\site-packages (from matplotlib) (2.9.0.post0)\n",
      "Requirement already satisfied: six>=1.5 in c:\\users\\user\\appdata\\local\\packages\\pythonsoftwarefoundation.python.3.11_qbz5n2kfra8p0\\localcache\\local-packages\\python311\\site-packages (from python-dateutil>=2.7->matplotlib) (1.17.0)\n",
      "Downloading matplotlib-3.10.3-cp311-cp311-win_amd64.whl (8.1 MB)\n",
      "   ---------------------------------------- 0.0/8.1 MB ? eta -:--:--\n",
      "   -- ------------------------------------- 0.5/8.1 MB 10.7 MB/s eta 0:00:01\n",
      "   ---------- ----------------------------- 2.1/8.1 MB 21.9 MB/s eta 0:00:01\n",
      "   ------------------- -------------------- 3.9/8.1 MB 27.7 MB/s eta 0:00:01\n",
      "   ---------------------------- ----------- 5.7/8.1 MB 30.5 MB/s eta 0:00:01\n",
      "   ------------------------------------- -- 7.6/8.1 MB 32.4 MB/s eta 0:00:01\n",
      "   ---------------------------------------  8.1/8.1 MB 32.2 MB/s eta 0:00:01\n",
      "   ---------------------------------------- 8.1/8.1 MB 28.7 MB/s eta 0:00:00\n",
      "Downloading contourpy-1.3.2-cp311-cp311-win_amd64.whl (222 kB)\n",
      "   ---------------------------------------- 0.0/222.0 kB ? eta -:--:--\n",
      "   ---------------------------------------- 222.0/222.0 kB ? eta 0:00:00\n",
      "Downloading cycler-0.12.1-py3-none-any.whl (8.3 kB)\n",
      "Downloading fonttools-4.58.2-cp311-cp311-win_amd64.whl (2.2 MB)\n",
      "   ---------------------------------------- 0.0/2.2 MB ? eta -:--:--\n",
      "   -------------------------------- ------- 1.8/2.2 MB 38.3 MB/s eta 0:00:01\n",
      "   ---------------------------------------- 2.2/2.2 MB 35.4 MB/s eta 0:00:00\n",
      "Downloading kiwisolver-1.4.8-cp311-cp311-win_amd64.whl (71 kB)\n",
      "   ---------------------------------------- 0.0/72.0 kB ? eta -:--:--\n",
      "   ---------------------------------------- 72.0/72.0 kB 4.1 MB/s eta 0:00:00\n",
      "Downloading pillow-11.2.1-cp311-cp311-win_amd64.whl (2.7 MB)\n",
      "   ---------------------------------------- 0.0/2.7 MB ? eta -:--:--\n",
      "   ---- ----------------------------------- 0.3/2.7 MB 6.3 MB/s eta 0:00:01\n",
      "   --------------------- ------------------ 1.5/2.7 MB 15.4 MB/s eta 0:00:01\n",
      "   ---------------------------------------  2.7/2.7 MB 21.3 MB/s eta 0:00:01\n",
      "   ---------------------------------------- 2.7/2.7 MB 19.0 MB/s eta 0:00:00\n",
      "Downloading pyparsing-3.2.3-py3-none-any.whl (111 kB)\n",
      "   ---------------------------------------- 0.0/111.1 kB ? eta -:--:--\n",
      "   ---------------------------------------- 111.1/111.1 kB ? eta 0:00:00\n",
      "Installing collected packages: pyparsing, pillow, kiwisolver, fonttools, cycler, contourpy, matplotlib\n",
      "Successfully installed contourpy-1.3.2 cycler-0.12.1 fonttools-4.58.2 kiwisolver-1.4.8 matplotlib-3.10.3 pillow-11.2.1 pyparsing-3.2.3\n"
     ]
    },
    {
     "name": "stderr",
     "output_type": "stream",
     "text": [
      "\n",
      "[notice] A new release of pip is available: 24.0 -> 25.1.1\n",
      "[notice] To update, run: C:\\Users\\user\\AppData\\Local\\Microsoft\\WindowsApps\\PythonSoftwareFoundation.Python.3.11_qbz5n2kfra8p0\\python.exe -m pip install --upgrade pip\n"
     ]
    }
   ],
   "source": [
    "!pip install matplotlib\n"
   ]
  },
  {
   "cell_type": "code",
   "execution_count": 4,
   "metadata": {},
   "outputs": [
    {
     "name": "stderr",
     "output_type": "stream",
     "text": [
      "Matplotlib is building the font cache; this may take a moment.\n"
     ]
    },
    {
     "name": "stdout",
     "output_type": "stream",
     "text": [
      "                     ts     username               platform  ms_played  \\\n",
      "0  2020-12-06T02:51:11Z  11145402699  iOS 14.2 (iPhone12,3)     145610   \n",
      "1  2020-12-06T02:53:31Z  11145402699  iOS 14.2 (iPhone12,3)     138692   \n",
      "2  2020-12-06T02:53:53Z  11145402699  iOS 14.2 (iPhone12,3)      22662   \n",
      "3  2020-12-06T02:53:56Z  11145402699  iOS 14.2 (iPhone12,3)       2716   \n",
      "4  2020-12-06T02:53:57Z  11145402699  iOS 14.2 (iPhone12,3)        116   \n",
      "\n",
      "  conn_country user_agent_decrypted   master_metadata_track_name  \\\n",
      "0           AR              unknown   Hey Jude - Remastered 2015   \n",
      "1           AR              unknown              Hacer un puente   \n",
      "2           AR              unknown  Happy Together - Remastered   \n",
      "3           AR              unknown                       Demons   \n",
      "4           AR              unknown              Paint It, Black   \n",
      "\n",
      "  master_metadata_album_artist_name master_metadata_album_album_name  \\\n",
      "0                       The Beatles                                1   \n",
      "1                        La Franela                  Hacer Un Puente   \n",
      "2                       The Turtles                  All the Singles   \n",
      "3                   Imagine Dragons                    Night Visions   \n",
      "4                The Rolling Stones                        Aftermath   \n",
      "\n",
      "                      spotify_track_uri episode_name episode_show_name  \\\n",
      "0  spotify:track:0aym2LBJBk9DAYuHHutrIl          NaN               NaN   \n",
      "1  spotify:track:18Q3WTfyWX1tdS1cp42NhA          NaN               NaN   \n",
      "2  spotify:track:2admbUc576sC6M0QeUkg2C          NaN               NaN   \n",
      "3  spotify:track:5qaEfEh1AtSdrdrByCP7qR          NaN               NaN   \n",
      "4  spotify:track:63T7DJ1AFDD6Bn8VzG6JE8          NaN               NaN   \n",
      "\n",
      "  spotify_episode_uri reason_start reason_end  shuffle  skipped  offline  \\\n",
      "0                 NaN    trackdone     fwdbtn     True      NaN    False   \n",
      "1                 NaN       fwdbtn     fwdbtn     True      NaN    False   \n",
      "2                 NaN       fwdbtn     fwdbtn     True      NaN    False   \n",
      "3                 NaN       fwdbtn     fwdbtn     True      NaN    False   \n",
      "4                 NaN       fwdbtn     fwdbtn     True      NaN    False   \n",
      "\n",
      "   offline_timestamp is_podcast  \n",
      "0      1607222710755      False  \n",
      "1      1607223071185      False  \n",
      "2      1607223210387      False  \n",
      "3      1607223233165      False  \n",
      "4      1607223236453      False  \n",
      "ts                                    object\n",
      "username                               int64\n",
      "platform                              object\n",
      "ms_played                              int64\n",
      "conn_country                          object\n",
      "user_agent_decrypted                  object\n",
      "master_metadata_track_name            object\n",
      "master_metadata_album_artist_name     object\n",
      "master_metadata_album_album_name      object\n",
      "spotify_track_uri                     object\n",
      "episode_name                          object\n",
      "episode_show_name                     object\n",
      "spotify_episode_uri                   object\n",
      "reason_start                          object\n",
      "reason_end                            object\n",
      "shuffle                                 bool\n",
      "skipped                              float64\n",
      "offline                                 bool\n",
      "offline_timestamp                      int64\n",
      "is_podcast                            object\n",
      "dtype: object\n"
     ]
    }
   ],
   "source": [
    "import pandas as pd\n",
    "import matplotlib.pyplot as plt\n",
    "from datetime import datetime\n",
    "\n",
    "df = pd.read_csv(\"StreamingHistory_Extended.csv\")\n",
    "\n",
    "print(df.head())\n",
    "print(df.dtypes)\n"
   ]
  },
  {
   "cell_type": "code",
   "execution_count": 5,
   "metadata": {},
   "outputs": [
    {
     "name": "stdout",
     "output_type": "stream",
     "text": [
      "<class 'pandas.core.frame.DataFrame'>\n",
      "RangeIndex: 24465 entries, 0 to 24464\n",
      "Data columns (total 20 columns):\n",
      " #   Column                             Non-Null Count  Dtype  \n",
      "---  ------                             --------------  -----  \n",
      " 0   ts                                 24465 non-null  object \n",
      " 1   username                           24465 non-null  int64  \n",
      " 2   platform                           24465 non-null  object \n",
      " 3   ms_played                          24465 non-null  int64  \n",
      " 4   conn_country                       24465 non-null  object \n",
      " 5   user_agent_decrypted               24465 non-null  object \n",
      " 6   master_metadata_track_name         24309 non-null  object \n",
      " 7   master_metadata_album_artist_name  24309 non-null  object \n",
      " 8   master_metadata_album_album_name   24309 non-null  object \n",
      " 9   spotify_track_uri                  24309 non-null  object \n",
      " 10  episode_name                       36 non-null     object \n",
      " 11  episode_show_name                  36 non-null     object \n",
      " 12  spotify_episode_uri                36 non-null     object \n",
      " 13  reason_start                       24465 non-null  object \n",
      " 14  reason_end                         24465 non-null  object \n",
      " 15  shuffle                            24465 non-null  bool   \n",
      " 16  skipped                            9 non-null      float64\n",
      " 17  offline                            24465 non-null  bool   \n",
      " 18  offline_timestamp                  24465 non-null  int64  \n",
      " 19  is_podcast                         24464 non-null  object \n",
      "dtypes: bool(2), float64(1), int64(3), object(14)\n",
      "memory usage: 3.4+ MB\n",
      "None\n",
      "                     ts     username               platform  ms_played  \\\n",
      "0  2020-12-06T02:51:11Z  11145402699  iOS 14.2 (iPhone12,3)     145610   \n",
      "1  2020-12-06T02:53:31Z  11145402699  iOS 14.2 (iPhone12,3)     138692   \n",
      "2  2020-12-06T02:53:53Z  11145402699  iOS 14.2 (iPhone12,3)      22662   \n",
      "3  2020-12-06T02:53:56Z  11145402699  iOS 14.2 (iPhone12,3)       2716   \n",
      "4  2020-12-06T02:53:57Z  11145402699  iOS 14.2 (iPhone12,3)        116   \n",
      "\n",
      "  conn_country user_agent_decrypted   master_metadata_track_name  \\\n",
      "0           AR              unknown   Hey Jude - Remastered 2015   \n",
      "1           AR              unknown              Hacer un puente   \n",
      "2           AR              unknown  Happy Together - Remastered   \n",
      "3           AR              unknown                       Demons   \n",
      "4           AR              unknown              Paint It, Black   \n",
      "\n",
      "  master_metadata_album_artist_name master_metadata_album_album_name  \\\n",
      "0                       The Beatles                                1   \n",
      "1                        La Franela                  Hacer Un Puente   \n",
      "2                       The Turtles                  All the Singles   \n",
      "3                   Imagine Dragons                    Night Visions   \n",
      "4                The Rolling Stones                        Aftermath   \n",
      "\n",
      "                      spotify_track_uri episode_name episode_show_name  \\\n",
      "0  spotify:track:0aym2LBJBk9DAYuHHutrIl          NaN               NaN   \n",
      "1  spotify:track:18Q3WTfyWX1tdS1cp42NhA          NaN               NaN   \n",
      "2  spotify:track:2admbUc576sC6M0QeUkg2C          NaN               NaN   \n",
      "3  spotify:track:5qaEfEh1AtSdrdrByCP7qR          NaN               NaN   \n",
      "4  spotify:track:63T7DJ1AFDD6Bn8VzG6JE8          NaN               NaN   \n",
      "\n",
      "  spotify_episode_uri reason_start reason_end  shuffle  skipped  offline  \\\n",
      "0                 NaN    trackdone     fwdbtn     True      NaN    False   \n",
      "1                 NaN       fwdbtn     fwdbtn     True      NaN    False   \n",
      "2                 NaN       fwdbtn     fwdbtn     True      NaN    False   \n",
      "3                 NaN       fwdbtn     fwdbtn     True      NaN    False   \n",
      "4                 NaN       fwdbtn     fwdbtn     True      NaN    False   \n",
      "\n",
      "   offline_timestamp is_podcast  \n",
      "0      1607222710755      False  \n",
      "1      1607223071185      False  \n",
      "2      1607223210387      False  \n",
      "3      1607223233165      False  \n",
      "4      1607223236453      False  \n"
     ]
    }
   ],
   "source": [
    "#¿Que información contiene el dataset? Describir las columnas y los tipos de datos. Pista: ¿Son todas las columnas necesarias para el análisis? ¿Son todos los registros del mismo tipo?\n",
    "import pandas as pd\n",
    "\n",
    "df = pd.read_csv(\"StreamingHistory_Extended.csv\")\n",
    "print(df.info())\n",
    "print(df.head())\n"
   ]
  },
  {
   "cell_type": "code",
   "execution_count": 6,
   "metadata": {},
   "outputs": [
    {
     "name": "stdout",
     "output_type": "stream",
     "text": [
      "Desde: 2019-07-31 16:29:24+00:00\n",
      " Hasta: 2021-12-20 19:24:28+00:00\n"
     ]
    }
   ],
   "source": [
    "#¿A partir de que fecha se registraron las reproducciones? ¿Hasta que fecha?\n",
    "#to_datetime es una funcion de pandas que la usamos para pasar los milisegundos de la columna ts a datetime, fecha y hora\n",
    "df[\"ts\"] = pd.to_datetime(df[\"ts\"])\n",
    "print(\"Desde:\", df[\"ts\"].min())\n",
    "print(\" Hasta:\", df[\"ts\"].max())"
   ]
  },
  {
   "cell_type": "code",
   "execution_count": 7,
   "metadata": {},
   "outputs": [
    {
     "name": "stdout",
     "output_type": "stream",
     "text": [
      "Canciones diferentes escuchadas: 3736\n"
     ]
    }
   ],
   "source": [
    "#¿Cuántas canciones diferentes se escucharon en total?\n",
    "# Filtrar solo canciones (descartar podcasts)\n",
    "df_canciones = df[df[\"is_podcast\"] != True]\n",
    "\n",
    "# Contar las canciones diferentes\n",
    "canciones_unicas = df_canciones[\"master_metadata_track_name\"].nunique()\n",
    "\n",
    "#nunique evita canciones repetidas (valores unicos)\n",
    "print(\"Canciones diferentes escuchadas:\", canciones_unicas)\n"
   ]
  },
  {
   "cell_type": "code",
   "execution_count": null,
   "metadata": {},
   "outputs": [
    {
     "name": "stdout",
     "output_type": "stream",
     "text": [
      "Duración total de reproducciones de canciones (en minutos): 42696.65\n"
     ]
    }
   ],
   "source": [
    "#¿Cuánto es la duración total de las reproducciones de canciones registradas? Pista: ¿Alguna columna del dataset indica la duración de la reproducción?\n",
    "#la columna ms_played indica la duración de la reproducción en milisegundos\n",
    "ms_totales = df_canciones[\"ms_played\"].sum()\n",
    "#sum es una funcion de pandas que suma todos los valores de la columna ms_played\n",
    "#en minutos\n",
    "ms_totales_minutos = ms_totales / (1000 * 60)\n",
    "#print(\"Duración total de reproducciones de canciones (en minutos):\", ms_totales_minutos)\n",
    "#round es una funcion de python que redondea el numero a 2 decimales\n",
    "redondeado = round(ms_totales_minutos, 2)\n",
    "print (\"Duración total de reproducciones de canciones (en minutos):\", redondeado)\n",
    "\n",
    "\n"
   ]
  },
  {
   "cell_type": "code",
   "execution_count": null,
   "metadata": {},
   "outputs": [
    {
     "name": "stdout",
     "output_type": "stream",
     "text": [
      "Artista: Childish Gambino\n"
     ]
    }
   ],
   "source": [
    "#¿Cuál es el artista más escuchado por tiempo total de reproducción?\n",
    "df_artistas = df_canciones.groupby(\"master_metadata_album_artist_name\")[\"ms_played\"].sum().reset_index()\n",
    "#reset_index() es una funcion de pandas que convierte el índice en una columna normal\n",
    "df_artistas = df_artistas.sort_values(by=\"ms_played\", ascending=False)\n",
    "#sort_values es una funcion de pandas que ordena los valores de la columna ms_played de mayor a menor\n",
    "artista_mas_escuchado = df_artistas.iloc[0]\n",
    "#df_artistas.iloc[0] es una funcion de pandas que devuelve la primera fila del dataframe df_artistas\n",
    "print(\"Artista:\", artista_mas_escuchado[\"master_metadata_album_artist_name\"])\n"
   ]
  }
 ],
 "metadata": {
  "kernelspec": {
   "display_name": "Python 3",
   "language": "python",
   "name": "python3"
  },
  "language_info": {
   "codemirror_mode": {
    "name": "ipython",
    "version": 3
   },
   "file_extension": ".py",
   "mimetype": "text/x-python",
   "name": "python",
   "nbconvert_exporter": "python",
   "pygments_lexer": "ipython3",
   "version": "3.11.9"
  }
 },
 "nbformat": 4,
 "nbformat_minor": 2
}
