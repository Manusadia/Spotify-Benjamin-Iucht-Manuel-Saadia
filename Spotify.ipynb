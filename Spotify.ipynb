{
 "cells": [
  {
   "cell_type": "code",
   "execution_count": null,
   "metadata": {},
   "outputs": [],
   "source": [
    "!pip install pandas"
   ]
  },
  {
   "cell_type": "code",
   "execution_count": null,
   "metadata": {},
   "outputs": [],
   "source": [
    "!pip install matplotlib\n"
   ]
  },
  {
   "cell_type": "code",
   "execution_count": null,
   "metadata": {},
   "outputs": [],
   "source": [
    "import pandas as pd\n",
    "import matplotlib.pyplot as plt\n",
    "from datetime import datetime\n",
    "\n",
    "df = pd.read_csv(\"StreamingHistory_Extended.csv\")\n",
    "\n",
    "print(df.head())\n",
    "print(df.dtypes)\n"
   ]
  },
  {
   "cell_type": "code",
   "execution_count": 7,
   "metadata": {},
   "outputs": [
    {
     "name": "stdout",
     "output_type": "stream",
     "text": [
      "<class 'pandas.core.frame.DataFrame'>\n",
      "RangeIndex: 24465 entries, 0 to 24464\n",
      "Data columns (total 20 columns):\n",
      " #   Column                             Non-Null Count  Dtype  \n",
      "---  ------                             --------------  -----  \n",
      " 0   ts                                 24465 non-null  object \n",
      " 1   username                           24465 non-null  int64  \n",
      " 2   platform                           24465 non-null  object \n",
      " 3   ms_played                          24465 non-null  int64  \n",
      " 4   conn_country                       24465 non-null  object \n",
      " 5   user_agent_decrypted               24465 non-null  object \n",
      " 6   master_metadata_track_name         24309 non-null  object \n",
      " 7   master_metadata_album_artist_name  24309 non-null  object \n",
      " 8   master_metadata_album_album_name   24309 non-null  object \n",
      " 9   spotify_track_uri                  24309 non-null  object \n",
      " 10  episode_name                       36 non-null     object \n",
      " 11  episode_show_name                  36 non-null     object \n",
      " 12  spotify_episode_uri                36 non-null     object \n",
      " 13  reason_start                       24465 non-null  object \n",
      " 14  reason_end                         24465 non-null  object \n",
      " 15  shuffle                            24465 non-null  bool   \n",
      " 16  skipped                            9 non-null      float64\n",
      " 17  offline                            24465 non-null  bool   \n",
      " 18  offline_timestamp                  24465 non-null  int64  \n",
      " 19  is_podcast                         24464 non-null  object \n",
      "dtypes: bool(2), float64(1), int64(3), object(14)\n",
      "memory usage: 3.4+ MB\n",
      "None\n",
      "                     ts     username               platform  ms_played  \\\n",
      "0  2020-12-06T02:51:11Z  11145402699  iOS 14.2 (iPhone12,3)     145610   \n",
      "1  2020-12-06T02:53:31Z  11145402699  iOS 14.2 (iPhone12,3)     138692   \n",
      "2  2020-12-06T02:53:53Z  11145402699  iOS 14.2 (iPhone12,3)      22662   \n",
      "3  2020-12-06T02:53:56Z  11145402699  iOS 14.2 (iPhone12,3)       2716   \n",
      "4  2020-12-06T02:53:57Z  11145402699  iOS 14.2 (iPhone12,3)        116   \n",
      "\n",
      "  conn_country user_agent_decrypted   master_metadata_track_name  \\\n",
      "0           AR              unknown   Hey Jude - Remastered 2015   \n",
      "1           AR              unknown              Hacer un puente   \n",
      "2           AR              unknown  Happy Together - Remastered   \n",
      "3           AR              unknown                       Demons   \n",
      "4           AR              unknown              Paint It, Black   \n",
      "\n",
      "  master_metadata_album_artist_name master_metadata_album_album_name  \\\n",
      "0                       The Beatles                                1   \n",
      "1                        La Franela                  Hacer Un Puente   \n",
      "2                       The Turtles                  All the Singles   \n",
      "3                   Imagine Dragons                    Night Visions   \n",
      "4                The Rolling Stones                        Aftermath   \n",
      "\n",
      "                      spotify_track_uri episode_name episode_show_name  \\\n",
      "0  spotify:track:0aym2LBJBk9DAYuHHutrIl          NaN               NaN   \n",
      "1  spotify:track:18Q3WTfyWX1tdS1cp42NhA          NaN               NaN   \n",
      "2  spotify:track:2admbUc576sC6M0QeUkg2C          NaN               NaN   \n",
      "3  spotify:track:5qaEfEh1AtSdrdrByCP7qR          NaN               NaN   \n",
      "4  spotify:track:63T7DJ1AFDD6Bn8VzG6JE8          NaN               NaN   \n",
      "\n",
      "  spotify_episode_uri reason_start reason_end  shuffle  skipped  offline  \\\n",
      "0                 NaN    trackdone     fwdbtn     True      NaN    False   \n",
      "1                 NaN       fwdbtn     fwdbtn     True      NaN    False   \n",
      "2                 NaN       fwdbtn     fwdbtn     True      NaN    False   \n",
      "3                 NaN       fwdbtn     fwdbtn     True      NaN    False   \n",
      "4                 NaN       fwdbtn     fwdbtn     True      NaN    False   \n",
      "\n",
      "   offline_timestamp is_podcast  \n",
      "0      1607222710755      False  \n",
      "1      1607223071185      False  \n",
      "2      1607223210387      False  \n",
      "3      1607223233165      False  \n",
      "4      1607223236453      False  \n"
     ]
    }
   ],
   "source": [
    "#¿Que información contiene el dataset? Describir las columnas y los tipos de datos. Pista: ¿Son todas las columnas necesarias para el análisis? ¿Son todos los registros del mismo tipo?\n",
    "import pandas as pd\n",
    "\n",
    "df = pd.read_csv(\"StreamingHistory_Extended.csv\")\n",
    "print(df.info())\n",
    "print(df.head())\n"
   ]
  },
  {
   "cell_type": "code",
   "execution_count": null,
   "metadata": {},
   "outputs": [
    {
     "name": "stdout",
     "output_type": "stream",
     "text": [
      "Desde: 2019-07-31 16:29:24+00:00\n",
      "Hasta: 2021-12-20 19:24:28+00:00\n"
     ]
    }
   ],
   "source": [
    "#¿A partir de que fecha se registraron las reproducciones? ¿Hasta que fecha?\n",
    "#to_datetime es una funcion de pandas que la usamos para pasar los milisegundos de ts a datetime, fecha y hora\n",
    "df[\"ts\"] = pd.to_datetime(df[\"ts\"])\n",
    "print(\"Desde:\", df[\"ts\"].min())\n",
    "print(\" Hasta:\", df[\"ts\"].max())"
   ]
  },
  {
   "cell_type": "code",
   "execution_count": null,
   "metadata": {},
   "outputs": [
    {
     "name": "stdout",
     "output_type": "stream",
     "text": [
      "Canciones diferentes escuchadas: 3736\n"
     ]
    }
   ],
   "source": [
    "#¿Cuántas canciones diferentes se escucharon en total?\n",
    "# Filtrar solo canciones (descartar podcasts)\n",
    "df_canciones = df[df[\"is_podcast\"] != True]\n",
    "\n",
    "# Contar las canciones diferentes\n",
    "canciones_unicas = df_canciones[\"master_metadata_track_name\"].nunique()\n",
    "\n",
    "#nunique evita canciones repetidas (valores unicos)\n",
    "print(\"Canciones diferentes escuchadas:\", canciones_unicas)\n"
   ]
  },
  {
   "cell_type": "code",
   "execution_count": null,
   "metadata": {},
   "outputs": [],
   "source": [
    "#¿Cuánto es la duración total de las reproducciones de canciones registradas? Pista: ¿Alguna columna del dataset indica la duración de la reproducción?"
   ]
  }
 ],
 "metadata": {
  "kernelspec": {
   "display_name": "base",
   "language": "python",
   "name": "python3"
  },
  "language_info": {
   "codemirror_mode": {
    "name": "ipython",
    "version": 3
   },
   "file_extension": ".py",
   "mimetype": "text/x-python",
   "name": "python",
   "nbconvert_exporter": "python",
   "pygments_lexer": "ipython3",
   "version": "3.12.7"
  }
 },
 "nbformat": 4,
 "nbformat_minor": 2
}
