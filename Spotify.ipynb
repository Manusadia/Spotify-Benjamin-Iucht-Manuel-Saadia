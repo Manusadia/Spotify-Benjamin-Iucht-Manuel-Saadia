{
 "cells": [
  {
   "cell_type": "code",
   "execution_count": 12,
   "metadata": {},
   "outputs": [
    {
     "name": "stdout",
     "output_type": "stream",
     "text": [
      "Defaulting to user installation because normal site-packages is not writeable\n",
      "Requirement already satisfied: pandas in c:\\programdata\\anaconda3\\lib\\site-packages (2.2.2)\n",
      "Requirement already satisfied: numpy>=1.26.0 in c:\\programdata\\anaconda3\\lib\\site-packages (from pandas) (1.26.4)\n",
      "Requirement already satisfied: python-dateutil>=2.8.2 in c:\\programdata\\anaconda3\\lib\\site-packages (from pandas) (2.9.0.post0)\n",
      "Requirement already satisfied: pytz>=2020.1 in c:\\programdata\\anaconda3\\lib\\site-packages (from pandas) (2024.1)\n",
      "Requirement already satisfied: tzdata>=2022.7 in c:\\programdata\\anaconda3\\lib\\site-packages (from pandas) (2023.3)\n",
      "Requirement already satisfied: six>=1.5 in c:\\programdata\\anaconda3\\lib\\site-packages (from python-dateutil>=2.8.2->pandas) (1.16.0)\n"
     ]
    }
   ],
   "source": [
    "!pip install pandas"
   ]
  },
  {
   "cell_type": "code",
   "execution_count": 13,
   "metadata": {},
   "outputs": [
    {
     "name": "stdout",
     "output_type": "stream",
     "text": [
      "Defaulting to user installation because normal site-packages is not writeable\n",
      "Requirement already satisfied: matplotlib in c:\\programdata\\anaconda3\\lib\\site-packages (3.9.2)\n",
      "Requirement already satisfied: contourpy>=1.0.1 in c:\\programdata\\anaconda3\\lib\\site-packages (from matplotlib) (1.2.0)\n",
      "Requirement already satisfied: cycler>=0.10 in c:\\programdata\\anaconda3\\lib\\site-packages (from matplotlib) (0.11.0)\n",
      "Requirement already satisfied: fonttools>=4.22.0 in c:\\programdata\\anaconda3\\lib\\site-packages (from matplotlib) (4.51.0)\n",
      "Requirement already satisfied: kiwisolver>=1.3.1 in c:\\programdata\\anaconda3\\lib\\site-packages (from matplotlib) (1.4.4)\n",
      "Requirement already satisfied: numpy>=1.23 in c:\\programdata\\anaconda3\\lib\\site-packages (from matplotlib) (1.26.4)\n",
      "Requirement already satisfied: packaging>=20.0 in c:\\programdata\\anaconda3\\lib\\site-packages (from matplotlib) (24.1)\n",
      "Requirement already satisfied: pillow>=8 in c:\\programdata\\anaconda3\\lib\\site-packages (from matplotlib) (10.4.0)\n",
      "Requirement already satisfied: pyparsing>=2.3.1 in c:\\programdata\\anaconda3\\lib\\site-packages (from matplotlib) (3.1.2)\n",
      "Requirement already satisfied: python-dateutil>=2.7 in c:\\programdata\\anaconda3\\lib\\site-packages (from matplotlib) (2.9.0.post0)\n",
      "Requirement already satisfied: six>=1.5 in c:\\programdata\\anaconda3\\lib\\site-packages (from python-dateutil>=2.7->matplotlib) (1.16.0)\n"
     ]
    }
   ],
   "source": [
    "!pip install matplotlib\n"
   ]
  },
  {
   "cell_type": "code",
   "execution_count": 14,
   "metadata": {},
   "outputs": [
    {
     "name": "stderr",
     "output_type": "stream",
     "text": [
      "C:\\Users\\49086761\\AppData\\Local\\Temp\\ipykernel_14808\\1737300765.py:5: DtypeWarning: Columns (16) have mixed types. Specify dtype option on import or set low_memory=False.\n",
      "  df = pd.read_csv(\"StreamingHistory_Extended.csv\")\n"
     ]
    },
    {
     "name": "stdout",
     "output_type": "stream",
     "text": [
      "                     ts     username               platform  ms_played  \\\n",
      "0  2020-12-06T02:51:11Z  11145402699  iOS 14.2 (iPhone12,3)     145610   \n",
      "1  2020-12-06T02:53:31Z  11145402699  iOS 14.2 (iPhone12,3)     138692   \n",
      "2  2020-12-06T02:53:53Z  11145402699  iOS 14.2 (iPhone12,3)      22662   \n",
      "3  2020-12-06T02:53:56Z  11145402699  iOS 14.2 (iPhone12,3)       2716   \n",
      "4  2020-12-06T02:53:57Z  11145402699  iOS 14.2 (iPhone12,3)        116   \n",
      "\n",
      "  conn_country user_agent_decrypted   master_metadata_track_name  \\\n",
      "0           AR              unknown   Hey Jude - Remastered 2015   \n",
      "1           AR              unknown              Hacer un puente   \n",
      "2           AR              unknown  Happy Together - Remastered   \n",
      "3           AR              unknown                       Demons   \n",
      "4           AR              unknown              Paint It, Black   \n",
      "\n",
      "  master_metadata_album_artist_name master_metadata_album_album_name  \\\n",
      "0                       The Beatles                                1   \n",
      "1                        La Franela                  Hacer Un Puente   \n",
      "2                       The Turtles                  All the Singles   \n",
      "3                   Imagine Dragons                    Night Visions   \n",
      "4                The Rolling Stones                        Aftermath   \n",
      "\n",
      "                      spotify_track_uri episode_name episode_show_name  \\\n",
      "0  spotify:track:0aym2LBJBk9DAYuHHutrIl          NaN               NaN   \n",
      "1  spotify:track:18Q3WTfyWX1tdS1cp42NhA          NaN               NaN   \n",
      "2  spotify:track:2admbUc576sC6M0QeUkg2C          NaN               NaN   \n",
      "3  spotify:track:5qaEfEh1AtSdrdrByCP7qR          NaN               NaN   \n",
      "4  spotify:track:63T7DJ1AFDD6Bn8VzG6JE8          NaN               NaN   \n",
      "\n",
      "  spotify_episode_uri reason_start reason_end  shuffle skipped  offline  \\\n",
      "0                 NaN    trackdone     fwdbtn     True     NaN    False   \n",
      "1                 NaN       fwdbtn     fwdbtn     True     NaN    False   \n",
      "2                 NaN       fwdbtn     fwdbtn     True     NaN    False   \n",
      "3                 NaN       fwdbtn     fwdbtn     True     NaN    False   \n",
      "4                 NaN       fwdbtn     fwdbtn     True     NaN    False   \n",
      "\n",
      "   offline_timestamp  is_podcast  \n",
      "0      1607222710755       False  \n",
      "1      1607223071185       False  \n",
      "2      1607223210387       False  \n",
      "3      1607223233165       False  \n",
      "4      1607223236453       False  \n",
      "ts                                   object\n",
      "username                              int64\n",
      "platform                             object\n",
      "ms_played                             int64\n",
      "conn_country                         object\n",
      "user_agent_decrypted                 object\n",
      "master_metadata_track_name           object\n",
      "master_metadata_album_artist_name    object\n",
      "master_metadata_album_album_name     object\n",
      "spotify_track_uri                    object\n",
      "episode_name                         object\n",
      "episode_show_name                    object\n",
      "spotify_episode_uri                  object\n",
      "reason_start                         object\n",
      "reason_end                           object\n",
      "shuffle                                bool\n",
      "skipped                              object\n",
      "offline                                bool\n",
      "offline_timestamp                     int64\n",
      "is_podcast                             bool\n",
      "dtype: object\n"
     ]
    }
   ],
   "source": [
    "import pandas as pd\n",
    "import matplotlib.pyplot as plt\n",
    "from datetime import datetime\n",
    "\n",
    "df = pd.read_csv(\"StreamingHistory_Extended.csv\")\n",
    "\n",
    "print(df.head())\n",
    "print(df.dtypes)\n"
   ]
  },
  {
   "cell_type": "code",
   "execution_count": 15,
   "metadata": {},
   "outputs": [
    {
     "name": "stderr",
     "output_type": "stream",
     "text": [
      "C:\\Users\\49086761\\AppData\\Local\\Temp\\ipykernel_14808\\4210619023.py:4: DtypeWarning: Columns (16) have mixed types. Specify dtype option on import or set low_memory=False.\n",
      "  df = pd.read_csv(\"StreamingHistory_Extended.csv\")\n"
     ]
    },
    {
     "name": "stdout",
     "output_type": "stream",
     "text": [
      "<class 'pandas.core.frame.DataFrame'>\n",
      "RangeIndex: 125349 entries, 0 to 125348\n",
      "Data columns (total 20 columns):\n",
      " #   Column                             Non-Null Count   Dtype \n",
      "---  ------                             --------------   ----- \n",
      " 0   ts                                 125349 non-null  object\n",
      " 1   username                           125349 non-null  int64 \n",
      " 2   platform                           125349 non-null  object\n",
      " 3   ms_played                          125349 non-null  int64 \n",
      " 4   conn_country                       125349 non-null  object\n",
      " 5   user_agent_decrypted               104897 non-null  object\n",
      " 6   master_metadata_track_name         123953 non-null  object\n",
      " 7   master_metadata_album_artist_name  123953 non-null  object\n",
      " 8   master_metadata_album_album_name   123953 non-null  object\n",
      " 9   spotify_track_uri                  123953 non-null  object\n",
      " 10  episode_name                       168 non-null     object\n",
      " 11  episode_show_name                  168 non-null     object\n",
      " 12  spotify_episode_uri                168 non-null     object\n",
      " 13  reason_start                       125344 non-null  object\n",
      " 14  reason_end                         105739 non-null  object\n",
      " 15  shuffle                            125349 non-null  bool  \n",
      " 16  skipped                            16354 non-null   object\n",
      " 17  offline                            125349 non-null  bool  \n",
      " 18  offline_timestamp                  125349 non-null  int64 \n",
      " 19  is_podcast                         125349 non-null  bool  \n",
      "dtypes: bool(3), int64(3), object(14)\n",
      "memory usage: 16.6+ MB\n",
      "None\n",
      "                     ts     username               platform  ms_played  \\\n",
      "0  2020-12-06T02:51:11Z  11145402699  iOS 14.2 (iPhone12,3)     145610   \n",
      "1  2020-12-06T02:53:31Z  11145402699  iOS 14.2 (iPhone12,3)     138692   \n",
      "2  2020-12-06T02:53:53Z  11145402699  iOS 14.2 (iPhone12,3)      22662   \n",
      "3  2020-12-06T02:53:56Z  11145402699  iOS 14.2 (iPhone12,3)       2716   \n",
      "4  2020-12-06T02:53:57Z  11145402699  iOS 14.2 (iPhone12,3)        116   \n",
      "\n",
      "  conn_country user_agent_decrypted   master_metadata_track_name  \\\n",
      "0           AR              unknown   Hey Jude - Remastered 2015   \n",
      "1           AR              unknown              Hacer un puente   \n",
      "2           AR              unknown  Happy Together - Remastered   \n",
      "3           AR              unknown                       Demons   \n",
      "4           AR              unknown              Paint It, Black   \n",
      "\n",
      "  master_metadata_album_artist_name master_metadata_album_album_name  \\\n",
      "0                       The Beatles                                1   \n",
      "1                        La Franela                  Hacer Un Puente   \n",
      "2                       The Turtles                  All the Singles   \n",
      "3                   Imagine Dragons                    Night Visions   \n",
      "4                The Rolling Stones                        Aftermath   \n",
      "\n",
      "                      spotify_track_uri episode_name episode_show_name  \\\n",
      "0  spotify:track:0aym2LBJBk9DAYuHHutrIl          NaN               NaN   \n",
      "1  spotify:track:18Q3WTfyWX1tdS1cp42NhA          NaN               NaN   \n",
      "2  spotify:track:2admbUc576sC6M0QeUkg2C          NaN               NaN   \n",
      "3  spotify:track:5qaEfEh1AtSdrdrByCP7qR          NaN               NaN   \n",
      "4  spotify:track:63T7DJ1AFDD6Bn8VzG6JE8          NaN               NaN   \n",
      "\n",
      "  spotify_episode_uri reason_start reason_end  shuffle skipped  offline  \\\n",
      "0                 NaN    trackdone     fwdbtn     True     NaN    False   \n",
      "1                 NaN       fwdbtn     fwdbtn     True     NaN    False   \n",
      "2                 NaN       fwdbtn     fwdbtn     True     NaN    False   \n",
      "3                 NaN       fwdbtn     fwdbtn     True     NaN    False   \n",
      "4                 NaN       fwdbtn     fwdbtn     True     NaN    False   \n",
      "\n",
      "   offline_timestamp  is_podcast  \n",
      "0      1607222710755       False  \n",
      "1      1607223071185       False  \n",
      "2      1607223210387       False  \n",
      "3      1607223233165       False  \n",
      "4      1607223236453       False  \n"
     ]
    }
   ],
   "source": [
    "#¿Que información contiene el dataset? Describir las columnas y los tipos de datos. Pista: ¿Son todas las columnas necesarias para el análisis? ¿Son todos los registros del mismo tipo?\n",
    "import pandas as pd\n",
    "\n",
    "df = pd.read_csv(\"StreamingHistory_Extended.csv\")\n",
    "print(df.info())\n",
    "print(df.head())\n"
   ]
  },
  {
   "cell_type": "code",
   "execution_count": 16,
   "metadata": {},
   "outputs": [
    {
     "name": "stdout",
     "output_type": "stream",
     "text": [
      "Desde: 2014-06-27 18:01:15+00:00\n",
      " Hasta: 2024-05-23 23:56:20+00:00\n"
     ]
    }
   ],
   "source": [
    "#¿A partir de que fecha se registraron las reproducciones? ¿Hasta que fecha?\n",
    "#to_datetime es una funcion de pandas que la usamos para pasar los milisegundos de la columna ts a datetime, fecha y hora\n",
    "df[\"ts\"] = pd.to_datetime(df[\"ts\"])\n",
    "print(\"Desde:\", df[\"ts\"].min())\n",
    "print(\" Hasta:\", df[\"ts\"].max())"
   ]
  },
  {
   "cell_type": "code",
   "execution_count": 17,
   "metadata": {},
   "outputs": [
    {
     "name": "stdout",
     "output_type": "stream",
     "text": [
      "Canciones diferentes escuchadas: 9708\n"
     ]
    }
   ],
   "source": [
    "#¿Cuántas canciones diferentes se escucharon en total?\n",
    "# Filtrar solo canciones (descartar podcasts)\n",
    "df_canciones = df[df[\"is_podcast\"] != True]\n",
    "\n",
    "# Contar las canciones diferentes\n",
    "canciones_unicas = df_canciones[\"master_metadata_track_name\"].nunique()\n",
    "\n",
    "#nunique evita canciones repetidas (valores unicos)\n",
    "print(\"Canciones diferentes escuchadas:\", canciones_unicas)\n"
   ]
  },
  {
   "cell_type": "code",
   "execution_count": 18,
   "metadata": {},
   "outputs": [
    {
     "name": "stdout",
     "output_type": "stream",
     "text": [
      "Duración total de reproducciones de canciones (en minutos): 207998.66\n"
     ]
    }
   ],
   "source": [
    "#¿Cuánto es la duración total de las reproducciones de canciones registradas? Pista: ¿Alguna columna del dataset indica la duración de la reproducción?\n",
    "#la columna ms_played indica la duración de la reproducción en milisegundos\n",
    "ms_totales = df_canciones[\"ms_played\"].sum()\n",
    "#sum es una funcion de pandas que suma todos los valores de la columna ms_played\n",
    "#en minutos\n",
    "ms_totales_minutos = ms_totales / (1000 * 60)\n",
    "#print(\"Duración total de reproducciones de canciones (en minutos):\", ms_totales_minutos)\n",
    "#round es una funcion de python que redondea el numero a 2 decimales\n",
    "redondeado = round(ms_totales_minutos, 2)\n",
    "print (\"Duración total de reproducciones de canciones (en minutos):\", redondeado)\n",
    "\n",
    "\n"
   ]
  },
  {
   "cell_type": "code",
   "execution_count": null,
   "metadata": {},
   "outputs": [
    {
     "name": "stdout",
     "output_type": "stream",
     "text": [
      "Artista: Charly García\n",
      "Canción más escuchada: Hablando a Tu Corazón\n"
     ]
    }
   ],
   "source": [
    "#¿Cuál es el artista más escuchado por tiempo total de reproducción?\n",
    "df_artistas = df_canciones.groupby(\"master_metadata_album_artist_name\")[\"ms_played\"].sum().reset_index()\n",
    "#reset_index() es una funcion de pandas que convierte el índice en una columna normal\n",
    "df_artistas = df_artistas.sort_values(by=\"ms_played\", ascending=False)\n",
    "#sort_values es una funcion de pandas que ordena los valores de la columna ms_played de mayor a menor\n",
    "artista_mas_escuchado = df_artistas.iloc[0]\n",
    "#df_artistas.iloc[0] es una funcion de pandas que devuelve la primera fila del dataframe df_artistas\n",
    "print(\"Artista:\", artista_mas_escuchado[\"master_metadata_album_artist_name\"])\n",
    "#Ejercicio 7 El artista más escuchado (por tiempo reproducido), ¿cuál es la canción más escuchada?\n",
    "cancion_mas_escuchada = df_canciones[df_canciones[\"master_metadata_album_artist_name\"] == artista_mas_escuchado[\"master_metadata_album_artist_name\"]]\n",
    "cancion_mas_escuchada = cancion_mas_escuchada.groupby(\"master_metadata_track_name\")[\"ms_played\"].sum().reset_index()\n",
    "cancion_mas_escuchada = cancion_mas_escuchada.sort_values(by=\"ms_played\", ascending=False)\n",
    "cancion_mas_escuchada = cancion_mas_escuchada.iloc[0]\n",
    "print(\"Canción más escuchada:\", cancion_mas_escuchada[\"master_metadata_track_name\"])\n",
    "\n"
   ]
  },
  {
   "cell_type": "code",
   "execution_count": null,
   "metadata": {},
   "outputs": [],
   "source": [
    "#Determinar el top 10 de artistas más escuchados . Elegir un tipo de gráfico adecuado para visualizar los resultados.\n",
    "artistas_mas_\n"
   ]
  }
 ],
 "metadata": {
  "kernelspec": {
   "display_name": "base",
   "language": "python",
   "name": "python3"
  },
  "language_info": {
   "codemirror_mode": {
    "name": "ipython",
    "version": 3
   },
   "file_extension": ".py",
   "mimetype": "text/x-python",
   "name": "python",
   "nbconvert_exporter": "python",
   "pygments_lexer": "ipython3",
   "version": "3.12.7"
  }
 },
 "nbformat": 4,
 "nbformat_minor": 2
}
