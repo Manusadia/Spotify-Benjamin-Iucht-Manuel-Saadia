{
 "cells": [
  {
   "cell_type": "code",
   "execution_count": null,
   "metadata": {},
   "outputs": [
    {
     "ename": "",
     "evalue": "",
     "output_type": "error",
     "traceback": [
      "\u001b[1;31mRunning cells with 'Python 3.13.2' requires the ipykernel package.\n",
      "\u001b[1;31mRun the following command to install 'ipykernel' into the Python environment. \n",
      "\u001b[1;31mCommand: 'c:/Python313/python.exe -m pip install ipykernel -U --user --force-reinstall'"
     ]
    }
   ],
   "source": [
    "!pip install pandas}"
   ]
  },
  {
   "cell_type": "code",
   "execution_count": null,
   "metadata": {},
   "outputs": [
    {
     "ename": "",
     "evalue": "",
     "output_type": "error",
     "traceback": [
      "\u001b[1;31mRunning cells with 'Python 3.13.2' requires the ipykernel package.\n",
      "\u001b[1;31mRun the following command to install 'ipykernel' into the Python environment. \n",
      "\u001b[1;31mCommand: 'c:/Python313/python.exe -m pip install ipykernel -U --user --force-reinstall'"
     ]
    }
   ],
   "source": [
    "!pip install ipykernel"
   ]
  },
  {
   "cell_type": "code",
   "execution_count": null,
   "metadata": {},
   "outputs": [],
   "source": [
    "!pip install matplotlib\n"
   ]
  },
  {
   "cell_type": "code",
   "execution_count": null,
   "metadata": {},
   "outputs": [],
   "source": [
    "import pandas as pd\n",
    "import matplotlib.pyplot as plt\n",
    "from datetime import datetime\n",
    "\n",
    "df = pd.read_csv(\"StreamingHistory_Extended.csv\")\n",
    "\n",
    "print(df.head())\n",
    "print(df.dtypes)\n"
   ]
  },
  {
   "cell_type": "code",
   "execution_count": null,
   "metadata": {},
   "outputs": [],
   "source": [
    "#¿Que información contiene el dataset? Describir las columnas y los tipos de datos. Pista: ¿Son todas las columnas necesarias para el análisis? ¿Son todos los registros del mismo tipo?\n",
    "import pandas as pd\n",
    "\n",
    "df = pd.read_csv(\"StreamingHistory_Extended.csv\")\n",
    "print(df.info())\n",
    "print(df.head())\n"
   ]
  },
  {
   "cell_type": "code",
   "execution_count": null,
   "metadata": {},
   "outputs": [],
   "source": [
    "#¿A partir de que fecha se registraron las reproducciones? ¿Hasta que fecha?\n",
    "#to_datetime es una funcion de pandas que la usamos para pasar los milisegundos de la columna ts a datetime, fecha y hora\n",
    "df[\"ts\"] = pd.to_datetime(df[\"ts\"])\n",
    "print(\"Desde:\", df[\"ts\"].min())\n",
    "print(\" Hasta:\", df[\"ts\"].max())"
   ]
  },
  {
   "cell_type": "code",
   "execution_count": null,
   "metadata": {},
   "outputs": [],
   "source": [
    "#¿Cuántas canciones diferentes se escucharon en total?\n",
    "# Filtrar solo canciones (descartar podcasts)\n",
    "df_canciones = df[df[\"is_podcast\"] != True]\n",
    "\n",
    "# Contar las canciones diferentes\n",
    "canciones_unicas = df_canciones[\"master_metadata_track_name\"].nunique()\n",
    "\n",
    "#nunique evita canciones repetidas (valores unicos)\n",
    "print(\"Canciones diferentes escuchadas:\", canciones_unicas)\n"
   ]
  },
  {
   "cell_type": "code",
   "execution_count": null,
   "metadata": {},
   "outputs": [],
   "source": [
    "#¿Cuánto es la duración total de las reproducciones de canciones registradas? Pista: ¿Alguna columna del dataset indica la duración de la reproducción?\n",
    "#la columna ms_played indica la duración de la reproducción en milisegundos\n",
    "ms_totales = df_canciones[\"ms_played\"].sum()\n",
    "#sum es una funcion de pandas que suma todos los valores de la columna ms_played\n",
    "#en minutos\n",
    "ms_totales_minutos = ms_totales / (1000 * 60)\n",
    "#print(\"Duración total de reproducciones de canciones (en minutos):\", ms_totales_minutos)\n",
    "#round es una funcion de python que redondea el numero a 2 decimales\n",
    "redondeado = round(ms_totales_minutos, 2)\n",
    "print (\"Duración total de reproducciones de canciones (en minutos):\", redondeado)\n",
    "\n",
    "\n"
   ]
  },
  {
   "cell_type": "code",
   "execution_count": null,
   "metadata": {},
   "outputs": [],
   "source": [
    "#¿Cuál es el artista más escuchado por tiempo total de reproducción?\n",
    "df_artistas = df_canciones.groupby(\"master_metadata_album_artist_name\")[\"ms_played\"].sum().reset_index()\n",
    "#reset_index() es una funcion de pandas que convierte el índice en una columna normal\n",
    "df_artistas = df_artistas.sort_values(by=\"ms_played\", ascending=False)\n",
    "#sort_values es una funcion de pandas que ordena los valores de la columna ms_played de mayor a menor\n",
    "artista_mas_escuchado = df_artistas.iloc[0]\n",
    "#df_artistas.iloc[0] es una funcion de pandas que devuelve la primera fila del dataframe df_artistas\n",
    "print(\"Artista:\", artista_mas_escuchado[\"master_metadata_album_artist_name\"])\n"
   ]
  }
 ],
 "metadata": {
  "kernelspec": {
   "display_name": "Python 3",
   "language": "python",
   "name": "python3"
  },
  "language_info": {
   "codemirror_mode": {
    "name": "ipython",
    "version": 3
   },
   "file_extension": ".py",
   "mimetype": "text/x-python",
   "name": "python",
   "nbconvert_exporter": "python",
   "pygments_lexer": "ipython3",
   "version": "3.13.2"
  }
 },
 "nbformat": 4,
 "nbformat_minor": 2
}
